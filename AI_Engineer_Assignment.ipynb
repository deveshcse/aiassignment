{
  "nbformat": 4,
  "nbformat_minor": 0,
  "metadata": {
    "colab": {
      "provenance": []
    },
    "kernelspec": {
      "name": "python3",
      "display_name": "Python 3"
    },
    "language_info": {
      "name": "python"
    }
  },
  "cells": [
    {
      "cell_type": "code",
      "source": [
        "import pandas as pd"
      ],
      "metadata": {
        "id": "ttT58d2X_dCJ"
      },
      "execution_count": 1,
      "outputs": []
    },
    {
      "cell_type": "code",
      "source": [
        "with open('/content/assignment_data.txt', 'r') as f:\n",
        "  content = f.read()\n",
        "print(content)"
      ],
      "metadata": {
        "colab": {
          "base_uri": "https://localhost:8080/"
        },
        "id": "HHf2Yp0w-KiG",
        "outputId": "9e242aec-c478-497c-9f48-1c3d82ccd5c0"
      },
      "execution_count": 2,
      "outputs": [
        {
          "output_type": "stream",
          "name": "stdout",
          "text": [
            "Recovery Agent (RA): नमस्ते श्री कुमार, मैं एक्स वाई जेड फाइनेंस से बोल रहा हूं। आपके लोन के बारे में बात करनी थी।\n",
            "\n",
            "Borrower (B): हां, बोलिए। क्या बात है?\n",
            "\n",
            "RA: सर, आपका पिछले महीने का EMI अभी तक नहीं आया है। क्या कोई समस्या है?\n",
            "\n",
            "B: हां, थोड़ी दिक्कत है। मेरी नौकरी चली गई है और मैं नया काम ढूंढ रहा हूं।\n",
            "\n",
            "RA: ओह, यह तो बुरा हुआ। लेकिन सर, आपको समझना होगा कि लोन का भुगतान समय पर करना बहुत जरूरी है।\n",
            "\n",
            "B: मैं समझता हूं, लेकिन अभी मेरे पास पैसे नहीं हैं। क्या कुछ समय मिल सकता है?\n",
            "\n",
            "RA: हम समझते हैं आपकी स्थिति। क्या आप अगले हफ्ते तक कुछ भुगतान कर सकते हैं?\n",
            "\n",
            "B: मैं कोशिश करूंगा, लेकिन पूरा EMI नहीं दे पाऊंगा। क्या आधा भुगतान चलेगा?\n",
            "\n",
            "RA: ठीक है, आधा भुगतान अगले हफ्ते तक कर दीजिए। बाकी का क्या प्लान है आपका?\n",
            "\n",
            "B: मुझे उम्मीद है कि अगले महीने तक मुझे नया काम मिल जाएगा। तब मैं बाकी बकाया चुका दूंगा।\n",
            "\n",
            "RA: ठीक है। तो हम ऐसा करते हैं - आप अगले हफ्ते तक आधा EMI जमा कर दीजिए, और अगले महीने के 15 तारीख तक बाकी का भुगतान कर दीजिए। क्या यह आपको स्वीकार है?\n",
            "\n",
            "B: हां, यह ठीक रहेगा। मैं इस प्लान का पालन करने की पूरी कोशिश करूंगा।\n",
            "\n",
            "RA: बहुत अच्छा। मैं आपको एक SMS भेज रहा हूं जिसमें भुगतान की डिटेल्स होंगी। कृपया इसका पालन करें और समय पर भुगतान करें।\n",
            "\n",
            "B: ठीक है, धन्यवाद आपके समझने के लिए।\n",
            "\n",
            "RA: आपका स्वागत है। अगर कोई और सवाल हो तो मुझे बताइएगा। अलविदा।\n",
            "\n",
            "B: अलविदा।\n",
            "\n"
          ]
        }
      ]
    },
    {
      "cell_type": "code",
      "source": [
        "# create a dataframe of above text\n",
        "\n",
        "# Split the content into individual dialogues\n",
        "lines = content.split('\\n')\n",
        "\n",
        "# Initialize lists to hold the data\n",
        "speakers = []\n",
        "dialogues = []\n",
        "\n",
        "# Loop through each line and parse the speaker and dialogue\n",
        "for line in lines:\n",
        "    if line.strip():  # Check if the line is not empty\n",
        "        # Split the line into speaker and dialogue\n",
        "        speaker, dialogue = line.split(': ', 1)\n",
        "        speakers.append(speaker.strip())\n",
        "        dialogues.append(dialogue.strip())\n",
        "\n",
        "\n",
        "# Create a DataFrame\n",
        "df = pd.DataFrame({'Speaker': speakers, 'Dialogue': dialogues})\n",
        "\n",
        "# Display the DataFrame\n",
        "print(df)"
      ],
      "metadata": {
        "colab": {
          "base_uri": "https://localhost:8080/"
        },
        "id": "3ZiTJOl-_RQR",
        "outputId": "cd48343c-ca0a-4f5e-ab30-83761c2d3901"
      },
      "execution_count": 3,
      "outputs": [
        {
          "output_type": "stream",
          "name": "stdout",
          "text": [
            "                Speaker                                           Dialogue\n",
            "0   Recovery Agent (RA)  नमस्ते श्री कुमार, मैं एक्स वाई जेड फाइनेंस से...\n",
            "1          Borrower (B)                           हां, बोलिए। क्या बात है?\n",
            "2                    RA  सर, आपका पिछले महीने का EMI अभी तक नहीं आया है...\n",
            "3                     B  हां, थोड़ी दिक्कत है। मेरी नौकरी चली गई है और ...\n",
            "4                    RA  ओह, यह तो बुरा हुआ। लेकिन सर, आपको समझना होगा ...\n",
            "5                     B  मैं समझता हूं, लेकिन अभी मेरे पास पैसे नहीं है...\n",
            "6                    RA  हम समझते हैं आपकी स्थिति। क्या आप अगले हफ्ते त...\n",
            "7                     B  मैं कोशिश करूंगा, लेकिन पूरा EMI नहीं दे पाऊंग...\n",
            "8                    RA  ठीक है, आधा भुगतान अगले हफ्ते तक कर दीजिए। बाक...\n",
            "9                     B  मुझे उम्मीद है कि अगले महीने तक मुझे नया काम म...\n",
            "10                   RA  ठीक है। तो हम ऐसा करते हैं - आप अगले हफ्ते तक ...\n",
            "11                    B  हां, यह ठीक रहेगा। मैं इस प्लान का पालन करने क...\n",
            "12                   RA  बहुत अच्छा। मैं आपको एक SMS भेज रहा हूं जिसमें...\n",
            "13                    B                 ठीक है, धन्यवाद आपके समझने के लिए।\n",
            "14                   RA  आपका स्वागत है। अगर कोई और सवाल हो तो मुझे बता...\n",
            "15                    B                                            अलविदा।\n"
          ]
        }
      ]
    },
    {
      "cell_type": "code",
      "source": [
        "from transformers import pipeline\n",
        "\n",
        "# Load the sentiment-analysis pipeline\n",
        "sentiment_pipeline = pipeline(\"sentiment-analysis\", model=\"cardiffnlp/twitter-xlm-roberta-base-sentiment\")\n",
        "\n",
        "# Define a function to predict sentiment\n",
        "def get_sentiment(text):\n",
        "    # Predict the sentiment\n",
        "    result = sentiment_pipeline(text)[0]\n",
        "    # Return the label\n",
        "    return result['label']\n",
        "\n",
        "# Apply the function to the dialogue column\n",
        "df['sentiment'] = df['Dialogue'].apply(get_sentiment)\n",
        "\n",
        "\n",
        "# Display the DataFrame\n",
        "print(df)\n"
      ],
      "metadata": {
        "colab": {
          "base_uri": "https://localhost:8080/"
        },
        "id": "k75SVvlL7_MT",
        "outputId": "98e49c83-431d-4b3e-b092-a7f64ff5bc7c"
      },
      "execution_count": 5,
      "outputs": [
        {
          "output_type": "stream",
          "name": "stdout",
          "text": [
            "                Speaker                                           Dialogue  \\\n",
            "0   Recovery Agent (RA)  नमस्ते श्री कुमार, मैं एक्स वाई जेड फाइनेंस से...   \n",
            "1          Borrower (B)                           हां, बोलिए। क्या बात है?   \n",
            "2                    RA  सर, आपका पिछले महीने का EMI अभी तक नहीं आया है...   \n",
            "3                     B  हां, थोड़ी दिक्कत है। मेरी नौकरी चली गई है और ...   \n",
            "4                    RA  ओह, यह तो बुरा हुआ। लेकिन सर, आपको समझना होगा ...   \n",
            "5                     B  मैं समझता हूं, लेकिन अभी मेरे पास पैसे नहीं है...   \n",
            "6                    RA  हम समझते हैं आपकी स्थिति। क्या आप अगले हफ्ते त...   \n",
            "7                     B  मैं कोशिश करूंगा, लेकिन पूरा EMI नहीं दे पाऊंग...   \n",
            "8                    RA  ठीक है, आधा भुगतान अगले हफ्ते तक कर दीजिए। बाक...   \n",
            "9                     B  मुझे उम्मीद है कि अगले महीने तक मुझे नया काम म...   \n",
            "10                   RA  ठीक है। तो हम ऐसा करते हैं - आप अगले हफ्ते तक ...   \n",
            "11                    B  हां, यह ठीक रहेगा। मैं इस प्लान का पालन करने क...   \n",
            "12                   RA  बहुत अच्छा। मैं आपको एक SMS भेज रहा हूं जिसमें...   \n",
            "13                    B                 ठीक है, धन्यवाद आपके समझने के लिए।   \n",
            "14                   RA  आपका स्वागत है। अगर कोई और सवाल हो तो मुझे बता...   \n",
            "15                    B                                            अलविदा।   \n",
            "\n",
            "   sentiment  \n",
            "0    neutral  \n",
            "1    neutral  \n",
            "2    neutral  \n",
            "3   negative  \n",
            "4   negative  \n",
            "5    neutral  \n",
            "6    neutral  \n",
            "7   negative  \n",
            "8    neutral  \n",
            "9   positive  \n",
            "10   neutral  \n",
            "11  positive  \n",
            "12  positive  \n",
            "13  positive  \n",
            "14  positive  \n",
            "15  positive  \n"
          ]
        }
      ]
    }
  ]
}